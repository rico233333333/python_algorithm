{
 "cells": [
  {
   "attachments": {},
   "cell_type": "markdown",
   "metadata": {},
   "source": [
    "# 快速排序"
   ]
  },
  {
   "attachments": {},
   "cell_type": "markdown",
   "metadata": {},
   "source": [
    "快速排序就是一个快"
   ]
  },
  {
   "attachments": {},
   "cell_type": "markdown",
   "metadata": {},
   "source": [
    "## 快速排序思路"
   ]
  },
  {
   "attachments": {},
   "cell_type": "markdown",
   "metadata": {},
   "source": [
    "1.拿一个元素P(第一个元素),使元素P归位"
   ]
  },
  {
   "attachments": {},
   "cell_type": "markdown",
   "metadata": {},
   "source": [
    "2.列表被分成两部分,左边都比P小,右边都比P大"
   ]
  },
  {
   "attachments": {},
   "cell_type": "markdown",
   "metadata": {},
   "source": [
    "3.递归完成排序"
   ]
  },
  {
   "attachments": {},
   "cell_type": "markdown",
   "metadata": {},
   "source": [
    "## 快速排序实现"
   ]
  },
  {
   "cell_type": "code",
   "execution_count": 2,
   "metadata": {},
   "outputs": [
    {
     "name": "stdout",
     "output_type": "stream",
     "text": [
      "[2, 2, 4, 8, 14]\n"
     ]
    }
   ],
   "source": [
    "def partition(lit: list, left: int, right: int) -> int:\n",
    "    tmp = lit[left]\n",
    "    while left < right:\n",
    "        while lit[right] >= tmp and left < right:   # 大于等于tmp从右边开始找\n",
    "            right -= 1  # 往左走一位\n",
    "        lit[left] = lit[right]  # 把右边的值写在左边空位上\n",
    "        while lit[left] < tmp and left < right:\n",
    "            left += 1\n",
    "        lit[right] = lit[left]  # 把左边的值写在右边空位上\n",
    "    lit[left] = tmp  # 归位tmp\n",
    "    return left  # 返回的是mid的值\n",
    "\n",
    "\n",
    "def quick_sorting(lit: list, left: int, right: int) -> list:\n",
    "    if left < right:\n",
    "        # 此处调用此函数计算并返回中间的元素的索引\n",
    "        mid = partition(lit, left, right)\n",
    "        quick_sorting(lit, left, mid - 1)\n",
    "        quick_sorting(lit, mid + 1, right)\n",
    "    return lit\n",
    "\n",
    "\n",
    "lit = [14, 2, 4, 2, 8]\n",
    "print(quick_sorting(lit, 0, len(lit) - 1))  # 此处减一是因为 len的最后一位取不到\n"
   ]
  },
  {
   "attachments": {},
   "cell_type": "markdown",
   "metadata": {},
   "source": [
    "## 快速排序的问题"
   ]
  },
  {
   "attachments": {},
   "cell_type": "markdown",
   "metadata": {},
   "source": [
    "### 快速排序的时间复杂度"
   ]
  },
  {
   "attachments": {},
   "cell_type": "markdown",
   "metadata": {},
   "source": [
    "递归实现故时间复杂度为： O(n*logn)"
   ]
  },
  {
   "attachments": {},
   "cell_type": "markdown",
   "metadata": {},
   "source": [
    "### 递归的问题"
   ]
  },
  {
   "attachments": {},
   "cell_type": "markdown",
   "metadata": {},
   "source": [
    "最大递归深度 999"
   ]
  },
  {
   "attachments": {},
   "cell_type": "markdown",
   "metadata": {},
   "source": [
    "系统资源消耗巨大"
   ]
  },
  {
   "attachments": {},
   "cell_type": "markdown",
   "metadata": {},
   "source": [
    "### 最坏的情况"
   ]
  },
  {
   "attachments": {},
   "cell_type": "markdown",
   "metadata": {},
   "source": [
    "012345678 这种 每次只少一个数 故在此 算法的时间复杂度为:O(n^2)"
   ]
  }
 ],
 "metadata": {
  "kernelspec": {
   "display_name": "Python 3",
   "language": "python",
   "name": "python3"
  },
  "language_info": {
   "codemirror_mode": {
    "name": "ipython",
    "version": 3
   },
   "file_extension": ".py",
   "mimetype": "text/x-python",
   "name": "python",
   "nbconvert_exporter": "python",
   "pygments_lexer": "ipython3",
   "version": "3.11.0"
  },
  "orig_nbformat": 4
 },
 "nbformat": 4,
 "nbformat_minor": 2
}
