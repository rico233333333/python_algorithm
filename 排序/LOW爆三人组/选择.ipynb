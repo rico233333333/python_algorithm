{
 "cells": [
  {
   "attachments": {},
   "cell_type": "markdown",
   "metadata": {},
   "source": [
    "# 选择排序"
   ]
  },
  {
   "attachments": {},
   "cell_type": "markdown",
   "metadata": {},
   "source": [
    "## 选择排序简介"
   ]
  },
  {
   "attachments": {},
   "cell_type": "markdown",
   "metadata": {},
   "source": [
    "#### 1.选择排序是不稳定的排序方法（比如序列[5， 5， 3]第一次就将第一个[5]与[3]交换，导致第一个5挪动到第二个5后面）。\n",
    "\n",
    "#### 2.​ 选择排序是一种非常基础的排序算法,其排序关键在于:使用查找最大值/最小值的方法,查询出数组中的最大/最小值,然后将这个最大/最小值放到数组的最后/最前边"
   ]
  },
  {
   "attachments": {},
   "cell_type": "markdown",
   "metadata": {},
   "source": [
    "## 简单的选择排序"
   ]
  },
  {
   "cell_type": "code",
   "execution_count": 1,
   "metadata": {},
   "outputs": [
    {
     "name": "stdout",
     "output_type": "stream",
     "text": [
      "[2, 2, 4, 8, 14]\n"
     ]
    }
   ],
   "source": [
    "def choice_sorting(lit: list):\n",
    "    new_list = []\n",
    "    for i in range(len(lit)):\n",
    "        num = min(lit)\n",
    "        new_list.append(num)\n",
    "        lit.remove(num)\n",
    "    return new_list\n",
    "\n",
    "lit = [14,2,4,2,8]\n",
    "print(choice_sorting(lit))\n",
    "\n",
    "'''\n",
    "它并不是最优解\n",
    "因为min()函数是使用python的其他方法实现的\n",
    "'''"
   ]
  },
  {
   "cell_type": "markdown",
   "metadata": {},
   "source": [
    "## 选择排序代码实现"
   ]
  },
  {
   "cell_type": "code",
   "execution_count": 11,
   "metadata": {},
   "outputs": [
    {
     "name": "stdout",
     "output_type": "stream",
     "text": [
      "[2, 2, 4, 8, 14]\n"
     ]
    }
   ],
   "source": [
    "def choice_sorting(lit: list):\n",
    "    for i in range(len(lit)):\n",
    "        min_idx = i\n",
    "        for j in range(i+1, len(lit)):\n",
    "            if lit[min_idx] > lit[j]:\n",
    "                min_idx = j\n",
    "\n",
    "        lit[i], lit[min_idx] = lit[min_idx], lit[i]\n",
    "    return lit\n",
    "\n",
    "\n",
    "lit = [14, 2, 4, 2, 8]\n",
    "print(choice_sorting(lit))\n"
   ]
  }
 ],
 "metadata": {
  "kernelspec": {
   "display_name": "Python 3",
   "language": "python",
   "name": "python3"
  },
  "language_info": {
   "codemirror_mode": {
    "name": "ipython",
    "version": 3
   },
   "file_extension": ".py",
   "mimetype": "text/x-python",
   "name": "python",
   "nbconvert_exporter": "python",
   "pygments_lexer": "ipython3",
   "version": "3.11.0"
  },
  "orig_nbformat": 4
 },
 "nbformat": 4,
 "nbformat_minor": 2
}
