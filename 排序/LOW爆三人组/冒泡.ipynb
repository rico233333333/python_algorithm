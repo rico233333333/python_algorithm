{
 "cells": [
  {
   "attachments": {},
   "cell_type": "markdown",
   "metadata": {},
   "source": [
    "# 冒泡排序"
   ]
  },
  {
   "attachments": {},
   "cell_type": "markdown",
   "metadata": {},
   "source": [
    "## 冒泡排序简介\n",
    "#### 1.冒泡排序介绍，冒泡排序的比较次数 = (n - 1) + (n - 2) + + 2 + 1,即:n * (n - 1) / 2,所以冒泡排序的时间复杂度为:O(n^2) 使用场景 由于冒泡排序的时间复杂度为:O(n^2)。\n",
    "#### 2.冒泡排序（BubbleSort）的基本概念是：依次比较相邻的两个数，将小数放在前面，大数放在后面即在第一趟：首先比较第1个和第2个数，将小数放前，大数放后。"
   ]
  },
  {
   "attachments": {},
   "cell_type": "markdown",
   "metadata": {},
   "source": [
    "## 冒泡排序代码"
   ]
  },
  {
   "cell_type": "code",
   "execution_count": 2,
   "metadata": {},
   "outputs": [
    {
     "name": "stdout",
     "output_type": "stream",
     "text": [
      "[14, 8, 4, 2, 2]\n"
     ]
    }
   ],
   "source": [
    "def bubbling_sorting(lit: list):\n",
    "    for i in range(len(lit)):\n",
    "        for j in range(i, len(lit)):\n",
    "            if lit[i] <= lit[j]:\n",
    "                lit[i], lit[j] = lit[j], lit[i]\n",
    "\n",
    "    return lit\n",
    "\n",
    "\n",
    "lit = [14, 2, 4, 2, 8]\n",
    "print(bubbling_sorting(lit))\n"
   ]
  }
 ],
 "metadata": {
  "kernelspec": {
   "display_name": "Python 3",
   "language": "python",
   "name": "python3"
  },
  "language_info": {
   "codemirror_mode": {
    "name": "ipython",
    "version": 3
   },
   "file_extension": ".py",
   "mimetype": "text/x-python",
   "name": "python",
   "nbconvert_exporter": "python",
   "pygments_lexer": "ipython3",
   "version": "3.11.0"
  },
  "orig_nbformat": 4
 },
 "nbformat": 4,
 "nbformat_minor": 2
}
