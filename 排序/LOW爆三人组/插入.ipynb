{
 "cells": [
  {
   "attachments": {},
   "cell_type": "markdown",
   "metadata": {},
   "source": [
    "# 插入排序"
   ]
  },
  {
   "attachments": {},
   "cell_type": "markdown",
   "metadata": {},
   "source": [
    "## 插入排序简介\n",
    "插入排序的工作原理是通过构建有序序列，对于未排序数据，在已排序序列中从后向前扫描，找到相应位置并插入。插入排序在实现上，通常采用in-place排序（即只需用到O(1)的额外空间的排序），因而在从后向前扫描过程中，需要反复把已排序元素逐步向后挪位，为最新元素提供插入空间。"
   ]
  },
  {
   "attachments": {},
   "cell_type": "markdown",
   "metadata": {},
   "source": [
    "## 插入排序实现"
   ]
  },
  {
   "cell_type": "code",
   "execution_count": 2,
   "metadata": {},
   "outputs": [
    {
     "name": "stdout",
     "output_type": "stream",
     "text": [
      "[2, 2, 4, 8, 14]\n"
     ]
    }
   ],
   "source": [
    "def insert_sorting(lit: list) -> list:\n",
    "    for i in range(len(lit)):\n",
    "        preIndex = i - 1\n",
    "        current = lit[i]\n",
    "        while preIndex >= 0 and lit[preIndex] > current:\n",
    "            lit[preIndex+1] = lit[preIndex]\n",
    "            preIndex -= 1\n",
    "        lit[preIndex+1] = current\n",
    "    return lit\n",
    "\n",
    "\n",
    "lit = [14, 2, 4, 2, 8]\n",
    "print(insert_sorting(lit))\n"
   ]
  },
  {
   "attachments": {},
   "cell_type": "markdown",
   "metadata": {},
   "source": [
    "## 插入排序优化"
   ]
  },
  {
   "attachments": {},
   "cell_type": "markdown",
   "metadata": {},
   "source": [
    "两种都差不多 只优化for循环"
   ]
  },
  {
   "cell_type": "code",
   "execution_count": 1,
   "metadata": {},
   "outputs": [
    {
     "name": "stdout",
     "output_type": "stream",
     "text": [
      "[2, 4, 2, 8, 14]\n"
     ]
    }
   ],
   "source": [
    "def insert_sorting(lit: list) -> list:\n",
    "    for i in range(1,len(lit)):  # 此处从1开始检索 因为做比较是从第二个数开始的 i表示摸到的哪个牌\n",
    "        tmp = lit[i]  # 存储摸到的牌\n",
    "        j = i - 1  # 此处的j表示的是手里面的那张牌\n",
    "        while lit[j] > lit[i] and j >= 0:\n",
    "            lit[j + 1] = lit[j]\n",
    "            j -= 1\n",
    "        lit[j + 1] = tmp\n",
    "\n",
    "    return lit\n",
    "\n",
    "\n",
    "lit = [14, 2, 4, 2, 8]\n",
    "print(insert_sorting(lit))"
   ]
  }
 ],
 "metadata": {
  "kernelspec": {
   "display_name": "Python 3",
   "language": "python",
   "name": "python3"
  },
  "language_info": {
   "codemirror_mode": {
    "name": "ipython",
    "version": 3
   },
   "file_extension": ".py",
   "mimetype": "text/x-python",
   "name": "python",
   "nbconvert_exporter": "python",
   "pygments_lexer": "ipython3",
   "version": "3.11.0"
  },
  "orig_nbformat": 4
 },
 "nbformat": 4,
 "nbformat_minor": 2
}
