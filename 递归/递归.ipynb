{
 "cells": [
  {
   "attachments": {},
   "cell_type": "markdown",
   "metadata": {},
   "source": [
    "# 递归算法"
   ]
  },
  {
   "attachments": {},
   "cell_type": "markdown",
   "metadata": {},
   "source": [
    "## 1.递归算法的特点"
   ]
  },
  {
   "attachments": {},
   "cell_type": "markdown",
   "metadata": {},
   "source": [
    "调用自身与结束条件"
   ]
  },
  {
   "attachments": {},
   "cell_type": "markdown",
   "metadata": {},
   "source": [
    "### 1.1最简单的递归"
   ]
  },
  {
   "cell_type": "code",
   "execution_count": 3,
   "metadata": {},
   "outputs": [
    {
     "name": "stdout",
     "output_type": "stream",
     "text": [
      "3\n",
      "2\n",
      "1\n"
     ]
    }
   ],
   "source": [
    "def func(x: int):\n",
    "    if x > 0:\n",
    "        print(x)\n",
    "        func(x - 1)\n",
    "\n",
    "'''\n",
    "可以看到此算法调用的自身 且 包含合理的结束条件\n",
    "传入 大于0的 数 条件会执行 条件执行之后 打印了一下 x 的值 再次向自身传入了 x-1 的值 做判断\n",
    "直到 x < 0 成立时 此函数方结束执行\n",
    "'''\n",
    "\n",
    "func(3)  # 调用函数 依次打印 3 2 1"
   ]
  },
  {
   "cell_type": "code",
   "execution_count": 4,
   "metadata": {},
   "outputs": [
    {
     "name": "stdout",
     "output_type": "stream",
     "text": [
      "1\n",
      "2\n",
      "3\n"
     ]
    }
   ],
   "source": [
    "def func(x: int):\n",
    "    if x > 0:\n",
    "        func(x - 1)\n",
    "        print(x)\n",
    "\n",
    "func(3)  # 此处调用函数会依次打印 1 2 3\n",
    "\n",
    "'''\n",
    "为啥两次结果不一样\n",
    "原因在于函数调用它本身的位置 可以理解成套娃\n",
    "执行到最后先释放最里面的套娃\n",
    "然后以小到大依次释放\n",
    "'''"
   ]
  }
 ],
 "metadata": {
  "kernelspec": {
   "display_name": "Python 3",
   "language": "python",
   "name": "python3"
  },
  "language_info": {
   "codemirror_mode": {
    "name": "ipython",
    "version": 3
   },
   "file_extension": ".py",
   "mimetype": "text/x-python",
   "name": "python",
   "nbconvert_exporter": "python",
   "pygments_lexer": "ipython3",
   "version": "3.11.0"
  },
  "orig_nbformat": 4
 },
 "nbformat": 4,
 "nbformat_minor": 2
}
