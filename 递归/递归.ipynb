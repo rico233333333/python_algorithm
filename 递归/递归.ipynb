{
 "cells": [
  {
   "attachments": {},
   "cell_type": "markdown",
   "metadata": {},
   "source": [
    "# 递归算法"
   ]
  },
  {
   "attachments": {},
   "cell_type": "markdown",
   "metadata": {},
   "source": [
    "## 1.递归算法的特点"
   ]
  },
  {
   "attachments": {},
   "cell_type": "markdown",
   "metadata": {},
   "source": [
    "调用自身与结束条件"
   ]
  },
  {
   "attachments": {},
   "cell_type": "markdown",
   "metadata": {},
   "source": [
    "### 1.1最简单的递归"
   ]
  },
  {
   "cell_type": "code",
   "execution_count": 3,
   "metadata": {},
   "outputs": [
    {
     "name": "stdout",
     "output_type": "stream",
     "text": [
      "3\n",
      "2\n",
      "1\n"
     ]
    }
   ],
   "source": [
    "def func(x: int):\n",
    "    if x > 0:\n",
    "        print(x)\n",
    "        func(x - 1)\n",
    "\n",
    "'''\n",
    "可以看到此算法调用的自身 且 包含合理的结束条件\n",
    "传入 大于0的 数 条件会执行 条件执行之后 打印了一下 x 的值 再次向自身传入了 x-1 的值 做判断\n",
    "直到 x < 0 成立时 此函数方结束执行\n",
    "'''\n",
    "\n",
    "func(3)  # 调用函数 依次打印 3 2 1"
   ]
  },
  {
   "cell_type": "code",
   "execution_count": 4,
   "metadata": {},
   "outputs": [
    {
     "name": "stdout",
     "output_type": "stream",
     "text": [
      "1\n",
      "2\n",
      "3\n"
     ]
    }
   ],
   "source": [
    "def func(x: int):\n",
    "    if x > 0:\n",
    "        func(x - 1)\n",
    "        print(x)\n",
    "\n",
    "func(3)  # 此处调用函数会依次打印 1 2 3\n",
    "\n",
    "'''\n",
    "为啥两次结果不一样\n",
    "原因在于函数调用它本身的位置 可以理解成套娃\n",
    "执行到最后先释放最里面的套娃\n",
    "然后以小到大依次释放 若如此不能理解 我也想不通再好的解释\n",
    "'''"
   ]
  },
  {
   "attachments": {},
   "cell_type": "markdown",
   "metadata": {},
   "source": [
    "## 2.汉诺塔问题"
   ]
  },
  {
   "attachments": {},
   "cell_type": "markdown",
   "metadata": {},
   "source": [
    "### 2.1汉诺塔问题概述"
   ]
  },
  {
   "attachments": {},
   "cell_type": "markdown",
   "metadata": {},
   "source": [
    "汉诺塔问题是一个经典的问题。汉诺塔（Hanoi Tower），又称河内塔，源于印度一个古老传说。大梵天创造世界的时候做了三根金刚石柱子，在一根柱子上从下往上按照大小顺序摞着64片黄金圆盘。大梵天命令婆罗门把圆盘从下面开始按大小顺序重新摆放在另一根柱子上。并且规定，任何时候，在小圆盘上都不能放大圆盘，且在三根柱子之间一次只能移动一个圆盘。问应该如何操作？"
   ]
  },
  {
   "attachments": {},
   "cell_type": "markdown",
   "metadata": {},
   "source": [
    "### 2.2汉诺塔问题代码"
   ]
  },
  {
   "cell_type": "code",
   "execution_count": 1,
   "metadata": {
    "notebookRunGroups": {
     "groupValue": ""
    }
   },
   "outputs": [
    {
     "name": "stdout",
     "output_type": "stream",
     "text": [
      "移动 从 a 移动到 c\n",
      "移动 从 a 移动到 b\n",
      "移动 从 c 移动到 b\n",
      "移动 从 a 移动到 c\n",
      "移动 从 b 移动到 a\n",
      "移动 从 b 移动到 c\n",
      "移动 从 a 移动到 c\n",
      "代码执行时间为: 0.0 秒\n"
     ]
    }
   ],
   "source": [
    "import time\n",
    "\n",
    "# 执行时间计算函数\n",
    "\n",
    "\n",
    "def execution_time(func, *args, **kwargs):\n",
    "    start_time = time.time()\n",
    "    func(*args, **kwargs)\n",
    "    end_time = time.time()\n",
    "\n",
    "    print(f\"代码执行时间为: {start_time - end_time} 秒\")\n",
    "\n",
    "\n",
    "def hanoi(n, a, b, c):\n",
    "    '''\n",
    "    位置传参 第一个参数表示盘子数量 第二个参数表示第一个柱子 第三个位置表示第二个柱子 第四个位置表示第三个柱子\n",
    "    n: 盘子总数\n",
    "    a: 第一个柱子\n",
    "    b: 第二个柱子\n",
    "    c: 第三个柱子\n",
    "\n",
    "    上面参数表示 把n个盘子 从 a 经过 b 移动到 c\n",
    "    '''\n",
    "    if n > 0:\n",
    "        hanoi(n-1, a, c, b)  # 此处表示 a 经过 c 移动到 b\n",
    "        print(f\"移动 从 {a} 移动到 {c}\")\n",
    "        hanoi(n-1, b, a, c)\n",
    "\n",
    "\n",
    "execution_time(hanoi, 3, 'a', 'b', 'c')\n"
   ]
  }
 ],
 "metadata": {
  "kernelspec": {
   "display_name": "Python 3",
   "language": "python",
   "name": "python3"
  },
  "language_info": {
   "codemirror_mode": {
    "name": "ipython",
    "version": 3
   },
   "file_extension": ".py",
   "mimetype": "text/x-python",
   "name": "python",
   "nbconvert_exporter": "python",
   "pygments_lexer": "ipython3",
   "version": "3.11.0"
  },
  "orig_nbformat": 4
 },
 "nbformat": 4,
 "nbformat_minor": 2
}
