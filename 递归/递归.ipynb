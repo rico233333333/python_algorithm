{
 "cells": [
  {
   "attachments": {},
   "cell_type": "markdown",
   "metadata": {},
   "source": [
    "# 递归算法"
   ]
  },
  {
   "attachments": {},
   "cell_type": "markdown",
   "metadata": {},
   "source": [
    "## 1.递归算法的特点"
   ]
  },
  {
   "attachments": {},
   "cell_type": "markdown",
   "metadata": {},
   "source": [
    "调用自身与结束条件"
   ]
  },
  {
   "attachments": {},
   "cell_type": "markdown",
   "metadata": {},
   "source": [
    "### 1.1最简单的递归"
   ]
  },
  {
   "cell_type": "code",
   "execution_count": null,
   "metadata": {},
   "outputs": [],
   "source": [
    "def func(x:int):\n",
    "    if x < 0:\n",
    "        print(x)\n",
    "        func(x - 1)\n",
    "\n",
    "'''\n",
    "可以看到此算法调用的自身 且 包含合理的结束条件\n",
    "传入 大于0的 数 条件会执行 条件执行之后 打印了一下 x 的值 再次向自身传入了 x-1 的值 做判断\n",
    "直到 x < 0 成立时 此函数方结束执行\n",
    "'''"
   ]
  }
 ],
 "metadata": {
  "language_info": {
   "name": "python"
  },
  "orig_nbformat": 4
 },
 "nbformat": 4,
 "nbformat_minor": 2
}
