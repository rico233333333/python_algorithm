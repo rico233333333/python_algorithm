{
 "cells": [
  {
   "attachments": {},
   "cell_type": "markdown",
   "metadata": {},
   "source": [
    "# 二分查找"
   ]
  },
  {
   "attachments": {},
   "cell_type": "markdown",
   "metadata": {},
   "source": [
    "二分查找（Binary Search）是一种在有序列表中查找特定元素的搜索算法。它通过将待查找区间不断分为两半，然后确定目标值可能在哪一半，并继续在该半部分进行查找，直到找到目标值或确定目标值不存在。"
   ]
  },
  {
   "attachments": {},
   "cell_type": "markdown",
   "metadata": {},
   "source": [
    "## 基本思想\n",
    "##### 确定查找范围的起始位置 low 和结束位置 high。初始时，low 为列表的第一个索引，high 为列表的最后一个索引。\n",
    "#### 若 low <= high，执行以下步骤：\n",
    "#####    计算中间位置 mid，可以使用 (low + high) // 2 来获得。\n",
    "#####    比较 mid 位置的值与目标值之间的关系：\n",
    "#####        若 mid 位置的值等于目标值，则找到目标值，返回 mid。\n",
    "#####        若 mid 位置的值大于目标值，则目标值可能在左半部分，将 high 更新为 mid - 1，并继续下一轮查找。\n",
    "#####        若 mid 位置的值小于目标值，则目标值可能在右半部分，将 low 更新为 mid + 1，并继续下一轮查找。\n",
    "##### 若循环结束仍未找到目标值，表示目标值不存在于列表中，返回特定的标识（如 -1）。"
   ]
  },
  {
   "attachments": {},
   "cell_type": "markdown",
   "metadata": {},
   "source": [
    "## 代码实现"
   ]
  },
  {
   "cell_type": "code",
   "execution_count": 5,
   "metadata": {},
   "outputs": [
    {
     "name": "stdout",
     "output_type": "stream",
     "text": [
      "15\n"
     ]
    }
   ],
   "source": [
    "# 使用此函数之前先进行排序\n",
    "def two_points_search(lit: list, search):\n",
    "    low = 0\n",
    "    high = len(lit) - 1\n",
    "\n",
    "    while low <= high:\n",
    "        mid_index = (low + high) // 2\n",
    "        if lit[mid_index] == search:\n",
    "            return mid_index\n",
    "\n",
    "        if lit[mid_index] > search:\n",
    "            high = mid_index - 1\n",
    "\n",
    "        if lit[mid_index] < search:\n",
    "            low = mid_index + 1\n",
    "\n",
    "    return None\n",
    "\n",
    "\n",
    "lit = [i for i in range(100)]\n",
    "print(two_points_search(lit, 15))\n"
   ]
  }
 ],
 "metadata": {
  "kernelspec": {
   "display_name": "Python 3",
   "language": "python",
   "name": "python3"
  },
  "language_info": {
   "codemirror_mode": {
    "name": "ipython",
    "version": 3
   },
   "file_extension": ".py",
   "mimetype": "text/x-python",
   "name": "python",
   "nbconvert_exporter": "python",
   "pygments_lexer": "ipython3",
   "version": "3.11.0"
  },
  "orig_nbformat": 4
 },
 "nbformat": 4,
 "nbformat_minor": 2
}
