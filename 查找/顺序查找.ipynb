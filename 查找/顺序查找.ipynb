{
 "cells": [
  {
   "attachments": {},
   "cell_type": "markdown",
   "metadata": {},
   "source": [
    "# 顺序查找"
   ]
  },
  {
   "attachments": {},
   "cell_type": "markdown",
   "metadata": {},
   "source": [
    "查找:就是在一堆数据元素中 通过一定的方法找出与给定关键字相同的数据元素的过程\n",
    "\n",
    "列表查找(线性表查找):从列表中查找指定元素\n",
    "    输入:列表、待查找元素\n",
    "    输出:元素下标(未找到返回None或者-1)\n",
    "\n",
    "内置列表查找函数:index()"
   ]
  },
  {
   "attachments": {},
   "cell_type": "markdown",
   "metadata": {},
   "source": [
    "## 顺序查找概述\n",
    "也叫线性查找，从列表的第一个元素开始，顺序进行搜索，直到找到元素或搜索到列表的最后一个元素为止"
   ]
  },
  {
   "cell_type": "code",
   "execution_count": 14,
   "metadata": {},
   "outputs": [],
   "source": [
    "import time\n",
    "\n",
    "# 执行时间计算函数\n",
    "def execution_time(func, *args, **kwargs):\n",
    "    start_time = time.time()\n",
    "    func(*args, **kwargs)\n",
    "    end_time = time.time()\n",
    "\n",
    "    print(f\"代码执行时间为: {start_time - end_time} 秒\")"
   ]
  },
  {
   "cell_type": "code",
   "execution_count": 15,
   "metadata": {},
   "outputs": [
    {
     "name": "stdout",
     "output_type": "stream",
     "text": [
      "1000\n",
      "代码执行时间为: 0.0 秒\n"
     ]
    }
   ],
   "source": [
    "def order_search(lit: list, search):\n",
    "    for i in range(len(lit)):\n",
    "        if lit[i] == search:\n",
    "            print(i)\n",
    "            return i\n",
    "    return None\n",
    "\n",
    "\n",
    "lit = [i for i in range(1000000)]\n",
    "execution_time(order_search, lit, 1000)\n"
   ]
  },
  {
   "cell_type": "code",
   "execution_count": 17,
   "metadata": {},
   "outputs": [
    {
     "name": "stdout",
     "output_type": "stream",
     "text": [
      "代码执行时间为: 0.0 秒\n",
      "<enumerate object at 0x000001E04B402980>\n"
     ]
    }
   ],
   "source": [
    "def order_search(lit: list, search):\n",
    "    for ind, v in enumerate(lit):  # enumerate(序列) 返回一个生成器 此生成器包含索引 和 值 然后在此处解包赋值了\n",
    "        if v == search:\n",
    "            return ind\n",
    "    return None\n",
    "\n",
    "lit = [i for i in range(12)]\n",
    "execution_time(order_search, lit, 5)"
   ]
  }
 ],
 "metadata": {
  "kernelspec": {
   "display_name": "Python 3",
   "language": "python",
   "name": "python3"
  },
  "language_info": {
   "codemirror_mode": {
    "name": "ipython",
    "version": 3
   },
   "file_extension": ".py",
   "mimetype": "text/x-python",
   "name": "python",
   "nbconvert_exporter": "python",
   "pygments_lexer": "ipython3",
   "version": "3.11.0"
  },
  "orig_nbformat": 4
 },
 "nbformat": 4,
 "nbformat_minor": 2
}
